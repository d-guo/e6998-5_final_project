{
 "cells": [
  {
   "cell_type": "code",
   "execution_count": 1,
   "id": "d5b7e55c",
   "metadata": {},
   "outputs": [],
   "source": [
    "from PIL import Image\n",
    "import matplotlib.pyplot as plt\n",
    "import numpy as np\n",
    "import cv2\n",
    "import os\n",
    "import random"
   ]
  },
  {
   "cell_type": "code",
   "execution_count": 5,
   "id": "2ffe113d",
   "metadata": {},
   "outputs": [],
   "source": [
    "def convert_from_yolo_to_cv2(input_txt):\n",
    "    \n",
    "    updated=[]\n",
    "    annotations = input_txt.split('\\n')[:-1]\n",
    "    num_digits = len(annotations)\n",
    "    \n",
    "    for i in annotations:\n",
    "        temp = i.split(' ')\n",
    "        temp[1] = round(float(temp[1])*(28*num_digits))\n",
    "        temp[2] = round(float(temp[2])*(28))\n",
    "        temp[3] = round(float(temp[3])*(28*num_digits))\n",
    "        temp[4] = round(float(temp[4])*(28))\n",
    "\n",
    "        # x min\n",
    "        x_min = int(temp[1]-temp[3]/2)\n",
    "        x_max = int(temp[1]+temp[3]/2)\n",
    "        y_min = int(temp[2]-temp[4]/2)\n",
    "        y_max = int(temp[2]+temp[4]/2)\n",
    "\n",
    "        updated.append([temp[0], x_min,x_max,y_min,y_max])\n",
    "    \n",
    "    return updated"
   ]
  },
  {
   "cell_type": "code",
   "execution_count": 48,
   "id": "9a2204f3",
   "metadata": {},
   "outputs": [],
   "source": [
    "def get_img_with_boxes(img_sample, ann_sample):\n",
    "    img_sample = np.array(img_sample)\n",
    "    \n",
    "    for i in ann_sample:\n",
    "        img_sample = cv2.rectangle(np.array(img_sample), pt1=(i[1],i[4]), pt2=(i[2],i[3]), color=(255,255,255), thickness=1)\n",
    "        img_sample = cv2.putText(img_sample, i[0], (i[1], i[4]- 3),\n",
    "                    cv2.FONT_HERSHEY_SIMPLEX, 0.3, (255,10,255), 1)\n",
    "                \n",
    "    return img_sample"
   ]
  },
  {
   "cell_type": "code",
   "execution_count": 15,
   "id": "4b317c0a",
   "metadata": {},
   "outputs": [],
   "source": [
    "img_list = []\n",
    "for img in ['999.png','1.png','180.png']:\n",
    "    img_list.append(Image.open(f'./data/YOLO_data_je/images/{img}'))\n",
    "\n",
    "ann_list = []\n",
    "for file in ['999.txt','1.txt','180.txt']:\n",
    "    with open(f'./data/predict/labels/{file}', \"r\") as f:\n",
    "        sample_annotation = f.read()\n",
    "        ann_list.append(convert_from_yolo_to_cv2(sample_annotation))\n",
    "        f.close()"
   ]
  },
  {
   "cell_type": "code",
   "execution_count": 8,
   "id": "4e606d6b",
   "metadata": {},
   "outputs": [
    {
     "data": {
      "text/plain": [
       "[<PIL.PngImagePlugin.PngImageFile image mode=L size=112x28>,\n",
       " <PIL.PngImagePlugin.PngImageFile image mode=L size=112x28>,\n",
       " <PIL.PngImagePlugin.PngImageFile image mode=L size=112x28>]"
      ]
     },
     "execution_count": 8,
     "metadata": {},
     "output_type": "execute_result"
    }
   ],
   "source": [
    "img_list"
   ]
  },
  {
   "cell_type": "code",
   "execution_count": 35,
   "id": "a9aa1940",
   "metadata": {},
   "outputs": [
    {
     "data": {
      "text/plain": [
       "[[['2', 57, 82, 1, 26],\n",
       "  ['1', 85, 110, 1, 26],\n",
       "  ['7', 1, 26, 1, 26],\n",
       "  ['8', 29, 54, 1, 26]],\n",
       " [['1', 85, 110, 1, 26],\n",
       "  ['4', 29, 54, 1, 26],\n",
       "  ['5', 1, 26, 1, 26],\n",
       "  ['5', 57, 82, 1, 26]],\n",
       " [['6', 57, 82, 1, 26],\n",
       "  ['6', 85, 110, 1, 26],\n",
       "  ['3', 29, 54, 1, 26],\n",
       "  ['3', 1, 26, 1, 26]]]"
      ]
     },
     "execution_count": 35,
     "metadata": {},
     "output_type": "execute_result"
    }
   ],
   "source": [
    "ann_list"
   ]
  },
  {
   "cell_type": "code",
   "execution_count": 49,
   "id": "d3e8fb39",
   "metadata": {},
   "outputs": [
    {
     "data": {
      "image/png": "[encoded data removed]",
      "text/plain": [
       "<Figure size 640x480 with 1 Axes>"
      ]
     },
     "metadata": {},
     "output_type": "display_data"
    },
    {
     "data": {
      "image/png": "[encoded data removed]",
      "text/plain": [
       "<Figure size 640x480 with 1 Axes>"
      ]
     },
     "metadata": {},
     "output_type": "display_data"
    },
    {
     "data": {
      "image/png": "[encoded data removed]",
      "text/plain": [
       "<Figure size 640x480 with 1 Axes>"
      ]
     },
     "metadata": {},
     "output_type": "display_data"
    }
   ],
   "source": [
    "for i in range(len(img_list)):\n",
    "    img_temp = get_img_with_boxes(img_list[i], ann_list[i])\n",
    "    \n",
    "    plt.imshow(img_temp)\n",
    "    plt.show()\n"
   ]
  }
 ],
 "metadata": {
  "kernelspec": {
   "display_name": "Python 3 (ipykernel)",
   "language": "python",
   "name": "python3"
  },
  "language_info": {
   "codemirror_mode": {
    "name": "ipython",
    "version": 3
   },
   "file_extension": ".py",
   "mimetype": "text/x-python",
   "name": "python",
   "nbconvert_exporter": "python",
   "pygments_lexer": "ipython3",
   "version": "3.9.16"
  }
 },
 "nbformat": 4,
 "nbformat_minor": 5
}
