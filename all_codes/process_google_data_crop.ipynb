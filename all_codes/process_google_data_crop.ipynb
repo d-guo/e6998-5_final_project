{
 "cells": [
  {
   "cell_type": "code",
   "execution_count": 1,
   "id": "1f03126e",
   "metadata": {},
   "outputs": [],
   "source": [
    "from utils.read_data import DataConverter\n",
    "\n",
    "import os\n",
    "import random\n",
    "import shutil\n",
    "\n",
    "import cv2\n",
    "import matplotlib.pyplot as plt\n",
    "import numpy as np\n",
    "from PIL import Image"
   ]
  },
  {
   "cell_type": "code",
   "execution_count": 2,
   "id": "82fc504d",
   "metadata": {},
   "outputs": [],
   "source": [
    "# !pip install xmltodict"
   ]
  },
  {
   "cell_type": "markdown",
   "id": "71329ae1",
   "metadata": {},
   "source": [
    "# Approach\n",
    "\n",
    "    1. Crop the image into 64 x 64 data such that it contains the correct bounding box\n",
    "        a. First check if the bounding boxes can fit into 64 x 64\n",
    "        b. to do this, check the box max(width) - min(width) < 64, max(heights) - min(heights) < 64\n",
    "        c. After confirming that, crop the image with the average(x_center, y_center) as center to be 64 by 64\n",
    "        "
   ]
  },
  {
   "cell_type": "markdown",
   "id": "3a33a8fb",
   "metadata": {},
   "source": [
    "## A. Quick test"
   ]
  },
  {
   "cell_type": "code",
   "execution_count": 2,
   "id": "262ea30d",
   "metadata": {},
   "outputs": [],
   "source": [
    "project_path = '/home/gj2353/e6998-5_final_project/'"
   ]
  },
  {
   "cell_type": "code",
   "execution_count": 3,
   "id": "9ab6dfad",
   "metadata": {},
   "outputs": [],
   "source": [
    "imgsz = 32"
   ]
  },
  {
   "cell_type": "code",
   "execution_count": 57,
   "id": "2ee24b06",
   "metadata": {},
   "outputs": [],
   "source": [
    "os.mkdir(os.path.join(project_path, f\"data/google_digit_data/train_cropped_{imgsz}/\"))\n",
    "os.mkdir(os.path.join(project_path, f\"data/google_digit_data/train_cropped_{imgsz}/images/\"))\n",
    "os.mkdir(os.path.join(project_path, f\"data/google_digit_data/train_cropped_{imgsz}/labels/\"))\n",
    "\n",
    "\n",
    "os.mkdir(os.path.join(project_path, f\"data/google_digit_data/valid_cropped_{imgsz}/\"))\n",
    "os.mkdir(os.path.join(project_path, f\"data/google_digit_data/valid_cropped_{imgsz}/images/\"))\n",
    "os.mkdir(os.path.join(project_path, f\"data/google_digit_data/valid_cropped_{imgsz}/labels/\"))\n",
    "\n",
    "os.mkdir(os.path.join(project_path, f\"data/google_digit_data/test_cropped_{imgsz}/\"))\n",
    "os.mkdir(os.path.join(project_path, f\"data/google_digit_data/test_cropped_{imgsz}/images/\"))\n",
    "os.mkdir(os.path.join(project_path, f\"data/google_digit_data/test_cropped_{imgsz}/labels/\"))"
   ]
  },
  {
   "cell_type": "code",
   "execution_count": 56,
   "id": "29c32f3a",
   "metadata": {},
   "outputs": [],
   "source": [
    "# # shutil.rmtree(os.path.join(project_path, \"data/google_digit_data/train_cropped/\"))\n",
    "# # shutil.rmtree(os.path.join(project_path, \"data/google_digit_data/test_cropped/\"))\n",
    "# # shutil.rmtree(os.path.join(project_path, \"data/google_digit_data/valid_cropped/\"))\n",
    "\n",
    "# shutil.rmtree(os.path.join(project_path, f\"data/google_digit_data/train_cropped_{imgsz}/\"))\n",
    "# shutil.rmtree(os.path.join(project_path, f\"data/google_digit_data/test_cropped_{imgsz}/\"))\n",
    "# shutil.rmtree(os.path.join(project_path, f\"data/google_digit_data/valid_cropped_{imgsz}/\"))\n"
   ]
  },
  {
   "cell_type": "code",
   "execution_count": 63,
   "id": "53c8ec65",
   "metadata": {},
   "outputs": [],
   "source": [
    "folder_name = 'valid'\n",
    "imgs = os.listdir(os.path.join(project_path, f\"data/google_digit_data/{folder_name}/images/\"))"
   ]
  },
  {
   "cell_type": "code",
   "execution_count": 64,
   "id": "a9b880d9",
   "metadata": {},
   "outputs": [],
   "source": [
    "for img in imgs:\n",
    "    image = Image.open(os.path.join(project_path, f\"data/google_digit_data/{folder_name}/images/{img}\"))\n",
    "    image_arr = np.array(image)\n",
    "    \n",
    "    # get the corresponding annotation\n",
    "    with open(os.path.join(project_path, f\"data/google_digit_data/{folder_name}/labels/{img.split('.')[0]}.txt\"), \"r\") as f:        \n",
    "        sample_annotation = f.read().split('\\n')[:-1]\n",
    "        f.close()\n",
    "    \n",
    "    img_height = image_arr.shape[0]\n",
    "    img_width = image_arr.shape[1]\n",
    "\n",
    "    # process sample annotations\n",
    "    cls = [float(i.split(' ')[0]) for i in sample_annotation]\n",
    "    x_coords = [float(i.split(' ')[1])*img_width for i in sample_annotation]\n",
    "    y_coords = [float(i.split(' ')[2])*img_height for i in sample_annotation]\n",
    "    widths = [float(i.split(' ')[3])*img_width for i in sample_annotation]\n",
    "    heights = [float(i.split(' ')[4])*img_height for i in sample_annotation]\n",
    "        \n",
    "        \n",
    "    # for each image, get the minimum x and minimum y \n",
    "    x_min_loc=np.inf\n",
    "    x_max_loc=0\n",
    "    y_min_loc=np.inf\n",
    "    y_max_loc=0\n",
    "\n",
    "    new_img_width=imgsz\n",
    "    new_img_height=imgsz\n",
    "\n",
    "    for i in range(0, len(x_coords)):\n",
    "\n",
    "        x_min = x_coords[i] - widths[i]/2\n",
    "        x_max = x_coords[i] + widths[i]/2\n",
    "        y_min = y_coords[i] - heights[i]/2\n",
    "        y_max = y_coords[i] + heights[i]/2\n",
    "\n",
    "        if x_min < x_min_loc:\n",
    "            x_min_loc = x_min\n",
    "\n",
    "        if x_max > x_max_loc:\n",
    "            x_max_loc = x_max\n",
    "\n",
    "        if y_min < y_min_loc:\n",
    "            y_min_loc = y_min\n",
    "\n",
    "        if y_max > y_max_loc:\n",
    "            y_max_loc = y_max\n",
    "            \n",
    "\n",
    "    # check if cropping is going to cut off max width and height necessary for bounding boxes\n",
    "    # also eliminate case where black borders will be produced\n",
    "    # (x_min_loc + new_img_width < img_width) and (y_min_loc + new_img_height < img_height):\n",
    "\n",
    "    x_min_loc = x_min_loc - 5\n",
    "    y_min_loc = y_min_loc - 5\n",
    "    \n",
    "    if (x_min_loc + new_img_width > x_max_loc) and (y_min_loc + new_img_height > y_max_loc) and (x_min_loc > 0) and (y_min_loc > 0) and (x_min_loc + new_img_width < img_width+5) and (y_min_loc + new_img_height < img_height+5):\n",
    "\n",
    "        new_ann = []\n",
    "        # crop the image and save to the new folder\n",
    "        test_image_new = image.crop((x_min_loc, y_min_loc, x_min_loc+new_img_width, y_min_loc+new_img_height))\n",
    "        test_image_new.save(os.path.join(project_path, f\"data/google_digit_data/{folder_name}_cropped_{imgsz}/images/{img}\"), 'png')\n",
    "        \n",
    "        # create a new annotation file\n",
    "        with open(os.path.join(project_path, f\"data/google_digit_data/{folder_name}_cropped_{imgsz}/labels/{img.split('.')[0]}.txt\"), 'w') as f:\n",
    "            f.close()\n",
    "        \n",
    "        # reset the bounding boxes\n",
    "        for i in range(0, len(x_coords)):\n",
    "            new_x_prop = (x_coords[i]-x_min_loc)/((x_min_loc+new_img_width)-x_min_loc)\n",
    "            new_y_prop = (y_coords[i]-y_min_loc)/((y_min_loc+new_img_height)-y_min_loc)\n",
    "            new_width = widths[i]/new_img_width\n",
    "            new_height = heights[i]/new_img_height\n",
    "\n",
    "            with open(os.path.join(project_path, f\"data/google_digit_data/{folder_name}_cropped_{imgsz}/labels/{img.split('.')[0]}.txt\"), 'a') as f:\n",
    "                f.write(\"{} {:.6f} {:.6f} {:.6f} {:.6f}\\n\".format(cls[i], new_x_prop, new_y_prop, new_width, new_height))\n"
   ]
  },
  {
   "cell_type": "markdown",
   "id": "419b24da",
   "metadata": {},
   "source": [
    "## Verify"
   ]
  },
  {
   "cell_type": "code",
   "execution_count": 65,
   "id": "2d20f3b8",
   "metadata": {},
   "outputs": [
    {
     "name": "stdout",
     "output_type": "stream",
     "text": [
      "2464\n",
      "4265\n",
      "243\n"
     ]
    }
   ],
   "source": [
    "print(len(os.listdir(os.path.join(project_path, f\"data/google_digit_data/train_cropped_{imgsz}/images/\"))))\n",
    "print(len(os.listdir(os.path.join(project_path, f\"data/google_digit_data/test_cropped_{imgsz}/images/\"))))\n",
    "print(len(os.listdir(os.path.join(project_path, f\"data/google_digit_data/valid_cropped_{imgsz}/images/\"))))"
   ]
  },
  {
   "cell_type": "code",
   "execution_count": 70,
   "id": "9a952449",
   "metadata": {},
   "outputs": [],
   "source": [
    "sample = os.listdir(os.path.join(project_path, f\"data/google_digit_data/test_cropped_{imgsz}/images/\"))[0]"
   ]
  },
  {
   "cell_type": "code",
   "execution_count": 72,
   "id": "d9ff73c6",
   "metadata": {},
   "outputs": [],
   "source": [
    "test_image = Image.open(os.path.join(project_path, f\"data/google_digit_data/test_cropped_{imgsz}/images/{sample}\"))"
   ]
  },
  {
   "cell_type": "code",
   "execution_count": 73,
   "id": "42f3b0d8",
   "metadata": {},
   "outputs": [
    {
     "data": {
      "image/png": "[encoded data removed]",
      "text/plain": [
       "<PIL.PngImagePlugin.PngImageFile image mode=RGB size=32x32>"
      ]
     },
     "execution_count": 73,
     "metadata": {},
     "output_type": "execute_result"
    }
   ],
   "source": [
    "test_image"
   ]
  },
  {
   "cell_type": "code",
   "execution_count": 75,
   "id": "5f7b44bb",
   "metadata": {},
   "outputs": [
    {
     "name": "stdout",
     "output_type": "stream",
     "text": [
      "['4.0', '0.328126', '0.453125', '0.343751', '0.593750']\n",
      "['0.0', '0.718752', '0.515626', '0.374999', '0.593750']\n"
     ]
    }
   ],
   "source": [
    "with open(os.path.join(project_path, f\"data/google_digit_data/test_cropped_{imgsz}/labels/{sample.split('.')[0]}.txt\"), \"r\") as f:\n",
    "    sample_annotation = f.read()\n",
    "    f.close()\n",
    "    \n",
    "height=imgsz\n",
    "width=imgsz\n",
    "  \n",
    "updated_annotation = []\n",
    "for i in sample_annotation.split('\\n')[:-1]:\n",
    "    \n",
    "    temp = i.split(' ')\n",
    "    print(temp)\n",
    "    temp[1] = round(float(temp[1]) * width)\n",
    "    temp[2] = round(float(temp[2]) * height)\n",
    "    temp[3] = round(float(temp[3]) * width)\n",
    "    temp[4] = round(float(temp[4]) * height)\n",
    "    \n",
    "    # x min\n",
    "    x_min = int(temp[1]-temp[3]/2)\n",
    "    x_max = int(temp[1]+temp[3]/2)\n",
    "    y_min = int(temp[2]-temp[4]/2)\n",
    "    y_max = int(temp[2]+temp[4]/2)\n",
    "    \n",
    "    updated_annotation.append([temp[0], x_min,x_max,y_min,y_max])"
   ]
  },
  {
   "cell_type": "code",
   "execution_count": 76,
   "id": "070140d2",
   "metadata": {},
   "outputs": [
    {
     "data": {
      "text/plain": [
       "<matplotlib.image.AxesImage at 0x7fee61e017d0>"
      ]
     },
     "execution_count": 76,
     "metadata": {},
     "output_type": "execute_result"
    },
    {
     "data": {
      "image/png": "[encoded data removed]",
      "text/plain": [
       "<Figure size 300x300 with 1 Axes>"
      ]
     },
     "metadata": {},
     "output_type": "display_data"
    }
   ],
   "source": [
    "plt.subplots(figsize=(3,3))\n",
    "test_image_arr = np.array(test_image)\n",
    "for i in updated_annotation:\n",
    "    cv2.rectangle(test_image_arr, pt1=(i[1],i[4]), pt2=(i[2],i[3]), color=(0,255,0), thickness=1)\n",
    "plt.imshow(test_image_arr)\n"
   ]
  },
  {
   "cell_type": "markdown",
   "id": "411e1d5e",
   "metadata": {},
   "source": [
    "## Move images to train"
   ]
  },
  {
   "cell_type": "code",
   "execution_count": 4,
   "id": "4c36ac46",
   "metadata": {},
   "outputs": [
    {
     "name": "stdout",
     "output_type": "stream",
     "text": [
      "5251\n",
      "0\n",
      "1504\n"
     ]
    }
   ],
   "source": [
    "print(len(os.listdir(os.path.join(project_path, f\"data/google_digit_data/train_cropped_{imgsz}/images/\"))))\n",
    "print(len(os.listdir(os.path.join(project_path, f\"data/google_digit_data/test_cropped_{imgsz}/images/\"))))\n",
    "print(len(os.listdir(os.path.join(project_path, f\"data/google_digit_data/valid_cropped_{imgsz}/images/\"))))"
   ]
  },
  {
   "cell_type": "code",
   "execution_count": 8,
   "id": "feb8d893",
   "metadata": {},
   "outputs": [
    {
     "name": "stdout",
     "output_type": "stream",
     "text": [
      "10.png\n",
      "10.txt\n"
     ]
    }
   ],
   "source": [
    "test_imgs = sorted(os.listdir(os.path.join(project_path, f\"data/google_digit_data/test_cropped_{imgsz}/images/\")))\n",
    "test_labs = sorted(os.listdir(os.path.join(project_path, f\"data/google_digit_data/test_cropped_{imgsz}/labels/\")))\n",
    "\n",
    "print(test_imgs[0])\n",
    "print(test_labs[0])"
   ]
  },
  {
   "cell_type": "code",
   "execution_count": 9,
   "id": "3eee8d24",
   "metadata": {},
   "outputs": [],
   "source": [
    "test_imgs = [i for i in test_imgs if '.png' in i]\n",
    "test_labs = [i for i in test_labs if '.txt' in i]"
   ]
  },
  {
   "cell_type": "code",
   "execution_count": 10,
   "id": "5f91bb9d",
   "metadata": {},
   "outputs": [],
   "source": [
    "for i in test_imgs[:3000]:\n",
    "    shutil.move(os.path.join(project_path, f\"data/google_digit_data/test_cropped_{imgsz}/images/{i}\"),\n",
    "                os.path.join(project_path, f\"data/google_digit_data/train_cropped_{imgsz}/images/{i}\"),\n",
    "               )\n",
    "    \n",
    "    lab = i.split('.')[0] + '.txt'\n",
    "    \n",
    "    shutil.move(os.path.join(project_path, f\"data/google_digit_data/test_cropped_{imgsz}/labels/{lab}\"),\n",
    "                os.path.join(project_path, f\"data/google_digit_data/train_cropped_{imgsz}/labels/{lab}\"),\n",
    "               )"
   ]
  },
  {
   "cell_type": "code",
   "execution_count": 11,
   "id": "6882555d",
   "metadata": {},
   "outputs": [],
   "source": [
    "for i in test_imgs[3000:]:\n",
    "    shutil.move(os.path.join(project_path, f\"data/google_digit_data/test_cropped_{imgsz}/images/{i}\"),\n",
    "                os.path.join(project_path, f\"data/google_digit_data/valid_cropped_{imgsz}/images/{i}\"),\n",
    "               )\n",
    "    \n",
    "    lab = i.split('.')[0] + '.txt'\n",
    "    \n",
    "    shutil.move(os.path.join(project_path, f\"data/google_digit_data/test_cropped_{imgsz}/labels/{lab}\"),\n",
    "                os.path.join(project_path, f\"data/google_digit_data/valid_cropped_{imgsz}/labels/{lab}\"),\n",
    "               )"
   ]
  }
 ],
 "metadata": {
  "kernelspec": {
   "display_name": "Python 3 (ipykernel)",
   "language": "python",
   "name": "python3"
  },
  "language_info": {
   "codemirror_mode": {
    "name": "ipython",
    "version": 3
   },
   "file_extension": ".py",
   "mimetype": "text/x-python",
   "name": "python",
   "nbconvert_exporter": "python",
   "pygments_lexer": "ipython3",
   "version": "3.7.5"
  }
 },
 "nbformat": 4,
 "nbformat_minor": 5
}
