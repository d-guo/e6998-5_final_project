{
 "cells": [
  {
   "cell_type": "code",
   "execution_count": 1,
   "id": "987e5672",
   "metadata": {},
   "outputs": [],
   "source": [
    "import os\n",
    "import pprint\n",
    "import shutil\n",
    "\n",
    "import matplotlib.pyplot as plt\n",
    "import numpy as np\n",
    "import pickle as pkl\n",
    "import torch\n",
    "\n",
    "import data\n",
    "import networks as net\n",
    "\n",
    "from networks import Generator, Discriminator\n",
    "from torch.utils.data import DataLoader\n",
    "\n",
    "torch.manual_seed(0)\n",
    "\n",
    "plt.rcParams['image.cmap'] = 'Blues_r'"
   ]
  },
  {
   "cell_type": "code",
   "execution_count": 2,
   "id": "474cf5e7",
   "metadata": {},
   "outputs": [
    {
     "name": "stdout",
     "output_type": "stream",
     "text": [
      "cpu\n"
     ]
    }
   ],
   "source": [
    "if torch.cuda.is_available():\n",
    "    device = torch.device('cuda')\n",
    "else:\n",
    "    device = torch.device('cpu')\n",
    "    \n",
    "print(device)"
   ]
  },
  {
   "cell_type": "code",
   "execution_count": 3,
   "id": "0de20219",
   "metadata": {},
   "outputs": [],
   "source": [
    "hp_dict = {\n",
    "    'run_name': 'GANs_training_1',\n",
    "    'description': 'sksksksk',\n",
    "    \n",
    "    'image_size': (28, 28 * 5),\n",
    "    \n",
    "    'batch_size': 32,\n",
    "    'num_epochs': 1000000,\n",
    "    \n",
    "    'learning_rate_discr': 0.0001,\n",
    "    'learning_rate_gen': 0.0001,\n",
    "    'discr_iters': 1,\n",
    "    'gen_iters': 4,\n",
    "    \n",
    "    'alpha': 1.0,\n",
    "    'beta': 10.0,\n",
    "    'threshold': 0.5,\n",
    "}\n",
    "\n",
    "# extract all hyperparameters for ease of use\n",
    "run_name = hp_dict['run_name']\n",
    "M, N = hp_dict['image_size']\n",
    "\n",
    "batch_size = hp_dict['batch_size']\n",
    "num_epochs = hp_dict['num_epochs']\n",
    "\n",
    "learning_rate_discr = hp_dict['learning_rate_discr']\n",
    "learning_rate_gen = hp_dict['learning_rate_gen']\n",
    "discr_iters = hp_dict['discr_iters']\n",
    "gen_iters = hp_dict['gen_iters']\n",
    "\n",
    "alpha = hp_dict['alpha']\n",
    "beta = hp_dict['beta']\n",
    "threshold = hp_dict['threshold']"
   ]
  },
  {
   "cell_type": "code",
   "execution_count": 4,
   "id": "7207ffc6",
   "metadata": {},
   "outputs": [],
   "source": [
    "# create output directory for this training session\n",
    "try:\n",
    "    os.mkdir(f'GANs_training/{run_name}')\n",
    "except FileExistsError:\n",
    "    shutil.rmtree(f'GANs_training/{run_name}')\n",
    "    os.mkdir(f'GANs_training/{run_name}')"
   ]
  },
  {
   "cell_type": "code",
   "execution_count": 5,
   "id": "afe510dc",
   "metadata": {},
   "outputs": [],
   "source": [
    "# record hyperparameters\n",
    "hp_dict_str = pprint.pformat(hp_dict)\n",
    "\n",
    "with open(f'GANs_training/{run_name}/hp_dict', 'wb+') as f:\n",
    "    pkl.dump(hp_dict, f)\n",
    "\n",
    "with open(f'GANs_training/{run_name}/hp_dict.txt', 'w+') as f:\n",
    "    f.write(hp_dict_str)"
   ]
  },
  {
   "cell_type": "code",
   "execution_count": 6,
   "id": "9259f13d",
   "metadata": {},
   "outputs": [],
   "source": [
    "# create dataset\n",
    "dataset = data.GANs_Dataset()\n",
    "dataset_loader = DataLoader(dataset, batch_size=batch_size, shuffle=True)"
   ]
  },
  {
   "cell_type": "code",
   "execution_count": 7,
   "id": "38384706",
   "metadata": {},
   "outputs": [
    {
     "name": "stdout",
     "output_type": "stream",
     "text": [
      "10000\n",
      "tensor([[[0., 0., 0.,  ..., 0., 0., 0.],\n",
      "         [0., 0., 0.,  ..., 0., 0., 0.],\n",
      "         [0., 0., 0.,  ..., 0., 0., 0.],\n",
      "         ...,\n",
      "         [0., 0., 0.,  ..., 0., 0., 0.],\n",
      "         [0., 0., 0.,  ..., 0., 0., 0.],\n",
      "         [0., 0., 0.,  ..., 0., 0., 0.]]], dtype=torch.float64)\n"
     ]
    },
    {
     "data": {
      "image/png": "[encoded data removed]",
      "text/plain": [
       "<Figure size 640x480 with 1 Axes>"
      ]
     },
     "metadata": {},
     "output_type": "display_data"
    }
   ],
   "source": [
    "print(len(dataset))\n",
    "print(dataset.image_list[0])\n",
    "plt.imshow(dataset.image_list[0][0].numpy())\n",
    "plt.show()"
   ]
  },
  {
   "cell_type": "code",
   "execution_count": 8,
   "id": "fdfd0223",
   "metadata": {},
   "outputs": [],
   "source": [
    "def hinge_loss(gen_perturb):\n",
    "    return torch.sum(torch.clip(torch.norm(gen_perturb, dim=(-1, -2)) - threshold, min=0)) / batch_size"
   ]
  },
  {
   "cell_type": "code",
   "execution_count": 9,
   "id": "5e87982f",
   "metadata": {},
   "outputs": [],
   "source": [
    "# set up models\n",
    "discr_model = Discriminator().double()\n",
    "gen_model = Generator().double()\n",
    "# target_model = # YOLO Model\n",
    "\n",
    "# record model architectures\n",
    "with open(f'GANs_training/{run_name}/discriminator_architecture_summary.txt', 'w+') as f:\n",
    "    f.write(str(discr_model))\n",
    "    \n",
    "with open(f'GANs_training/{run_name}/generator_architecture_summary.txt', 'w+') as f:\n",
    "    f.write(str(gen_model))"
   ]
  },
  {
   "cell_type": "code",
   "execution_count": 10,
   "id": "aff9e232",
   "metadata": {},
   "outputs": [
    {
     "name": "stderr",
     "output_type": "stream",
     "text": [
      "Ultralytics YOLOv8.0.86 🚀 Python-3.9.16 torch-2.0.0 CPU\n",
      "\u001b[34m\u001b[1myolo/engine/trainer: \u001b[0mtask=detect, mode=predict, model=model_results/model_digit_data_ver1_256/weights/best.pt, data=detection_data.yaml, epochs=100, patience=50, batch=32, imgsz=256, save=True, save_period=-1, cache=False, device=None, workers=4, project=None, name=None, exist_ok=False, pretrained=False, optimizer=Adam, verbose=True, seed=0, deterministic=True, single_cls=False, image_weights=False, rect=False, cos_lr=False, close_mosaic=10, resume=False, amp=True, overlap_mask=True, mask_ratio=4, dropout=0.0, val=True, split=val, save_json=False, save_hybrid=False, conf=None, iou=0.7, max_det=300, half=False, dnn=False, plots=True, source=None, show=False, save_txt=False, save_conf=False, save_crop=False, hide_labels=False, hide_conf=False, vid_stride=1, line_thickness=3, visualize=False, augment=False, agnostic_nms=False, classes=None, retina_masks=False, boxes=True, format=torchscript, keras=False, optimize=False, int8=False, dynamic=False, simplify=False, opset=None, workspace=4, nms=False, lr0=0.001, lrf=0.01, momentum=0.937, weight_decay=0.0005, warmup_epochs=3.0, warmup_momentum=0.8, warmup_bias_lr=0.1, box=7.5, cls=0.5, dfl=1.5, fl_gamma=0.0, label_smoothing=0.0, nbs=64, hsv_h=0.0, hsv_s=0.0, hsv_v=0.0, degrees=0.0, translate=0.0, scale=0.0, shear=0.0, perspective=0.0, flipud=0.0, fliplr=0.5, mosaic=1.0, mixup=0.0, copy_paste=0.0, cfg=None, v5loader=False, tracker=botsort.yaml, save_dir=runs/detect/train8\n",
      "\n",
      "                   from  n    params  module                                       arguments                     \n",
      "  0                  -1  1       464  ultralytics.nn.modules.Conv                  [3, 16, 3, 2]                 \n",
      "  1                  -1  1      4672  ultralytics.nn.modules.Conv                  [16, 32, 3, 2]                \n",
      "  2                  -1  1      7360  ultralytics.nn.modules.C2f                   [32, 32, 1, True]             \n",
      "  3                  -1  1     18560  ultralytics.nn.modules.Conv                  [32, 64, 3, 2]                \n",
      "  4                  -1  2     49664  ultralytics.nn.modules.C2f                   [64, 64, 2, True]             \n",
      "  5                  -1  1     73984  ultralytics.nn.modules.Conv                  [64, 128, 3, 2]               \n",
      "  6                  -1  2    197632  ultralytics.nn.modules.C2f                   [128, 128, 2, True]           \n",
      "  7                  -1  1    295424  ultralytics.nn.modules.Conv                  [128, 256, 3, 2]              \n",
      "  8                  -1  1    460288  ultralytics.nn.modules.C2f                   [256, 256, 1, True]           \n",
      "  9                  -1  1    164608  ultralytics.nn.modules.SPPF                  [256, 256, 5]                 \n",
      " 10                  -1  1         0  torch.nn.modules.upsampling.Upsample         [None, 2, 'nearest']          \n",
      " 11             [-1, 6]  1         0  ultralytics.nn.modules.Concat                [1]                           \n",
      " 12                  -1  1    148224  ultralytics.nn.modules.C2f                   [384, 128, 1]                 \n",
      " 13                  -1  1         0  torch.nn.modules.upsampling.Upsample         [None, 2, 'nearest']          \n",
      " 14             [-1, 4]  1         0  ultralytics.nn.modules.Concat                [1]                           \n",
      " 15                  -1  1     37248  ultralytics.nn.modules.C2f                   [192, 64, 1]                  \n",
      " 16                  -1  1     36992  ultralytics.nn.modules.Conv                  [64, 64, 3, 2]                \n",
      " 17            [-1, 12]  1         0  ultralytics.nn.modules.Concat                [1]                           \n",
      " 18                  -1  1    123648  ultralytics.nn.modules.C2f                   [192, 128, 1]                 \n",
      " 19                  -1  1    147712  ultralytics.nn.modules.Conv                  [128, 128, 3, 2]              \n",
      " 20             [-1, 9]  1         0  ultralytics.nn.modules.Concat                [1]                           \n",
      " 21                  -1  1    493056  ultralytics.nn.modules.C2f                   [384, 256, 1]                 \n",
      " 22        [15, 18, 21]  1    753262  ultralytics.nn.modules.Detect                [10, [64, 128, 256]]          \n",
      "Model summary: 225 layers, 3012798 parameters, 3012782 gradients, 8.2 GFLOPs\n",
      "\n",
      "Transferred 355/355 items from pretrained weights\n"
     ]
    }
   ],
   "source": [
    "from ultralytics import YOLO\n",
    "from ultralytics.yolo.v8.detect.train import DetectionTrainer\n",
    "from ultralytics.yolo.data.dataloaders.v5loader import create_dataloader\n",
    "from ultralytics.yolo.v8.detect.train import Loss\n",
    "import cv2\n",
    "import torch\n",
    "import matplotlib.pyplot as plt\n",
    "import resize_right\n",
    "import numpy as np\n",
    "\n",
    "# load detection trainer using the weights best.pt\n",
    "# best.pt is the custom model trained on YOLO_data_je\n",
    "trainer = DetectionTrainer('args_digits_data_ver1.yaml')\n",
    "trainer.setup_model()\n",
    "trainer.model.double()\n",
    "trainer.set_model_attributes()"
   ]
  },
  {
   "cell_type": "code",
   "execution_count": 11,
   "id": "22ab53c9",
   "metadata": {},
   "outputs": [],
   "source": [
    "# track metrics\n",
    "loss_discr_list = []\n",
    "loss_gen_list = []\n",
    "\n",
    "loss_discr_by_epoch_list = []\n",
    "loss_gen_by_epoch_list = []"
   ]
  },
  {
   "cell_type": "code",
   "execution_count": 12,
   "id": "ffe3a60b",
   "metadata": {},
   "outputs": [],
   "source": [
    "# set up or refresh optimizers\n",
    "optimizer_discr = torch.optim.Adam(discr_model.parameters(), lr=learning_rate_discr, amsgrad=True)\n",
    "optimizer_gen = torch.optim.Adam(gen_model.parameters(), lr=learning_rate_gen, amsgrad=True)"
   ]
  },
  {
   "cell_type": "code",
   "execution_count": 13,
   "id": "ef1ba570",
   "metadata": {
    "scrolled": true
   },
   "outputs": [
    {
     "ename": "RuntimeError",
     "evalue": "Sizes of tensors must match except in dimension 1. Expected size 5 but got size 160 for tensor number 1 in the list.",
     "output_type": "error",
     "traceback": [
      "\u001b[0;31m---------------------------------------------------------------------------\u001b[0m",
      "\u001b[0;31mRuntimeError\u001b[0m                              Traceback (most recent call last)",
      "Cell \u001b[0;32mIn[13], line 47\u001b[0m\n\u001b[1;32m     45\u001b[0m yolo_out \u001b[38;5;241m=\u001b[39m trainer\u001b[38;5;241m.\u001b[39mmodel(tensor_img_resized)\n\u001b[1;32m     46\u001b[0m loss_fn \u001b[38;5;241m=\u001b[39m Loss(trainer\u001b[38;5;241m.\u001b[39mmodel)\n\u001b[0;32m---> 47\u001b[0m loss_adv, _ \u001b[38;5;241m=\u001b[39m \u001b[43mloss_fn\u001b[49m\u001b[43m(\u001b[49m\u001b[43myolo_out\u001b[49m\u001b[43m,\u001b[49m\u001b[43m \u001b[49m\u001b[43mbatch\u001b[49m\u001b[43m)\u001b[49m\n\u001b[1;32m     48\u001b[0m loss_adv \u001b[38;5;241m*\u001b[39m\u001b[38;5;241m=\u001b[39m \u001b[38;5;241m-\u001b[39m\u001b[38;5;241m1\u001b[39m\n\u001b[1;32m     50\u001b[0m loss_gan \u001b[38;5;241m=\u001b[39m net\u001b[38;5;241m.\u001b[39mcompute_gen_loss_minimax_modified(discr_model, images_perturb)\n",
      "File \u001b[0;32m~/miniforge3/envs/hpml_env/lib/python3.9/site-packages/ultralytics/yolo/v8/detect/train.py:181\u001b[0m, in \u001b[0;36mLoss.__call__\u001b[0;34m(self, preds, batch)\u001b[0m\n\u001b[1;32m    178\u001b[0m anchor_points, stride_tensor \u001b[38;5;241m=\u001b[39m make_anchors(feats, \u001b[38;5;28mself\u001b[39m\u001b[38;5;241m.\u001b[39mstride, \u001b[38;5;241m0.5\u001b[39m)\n\u001b[1;32m    180\u001b[0m \u001b[38;5;66;03m# targets\u001b[39;00m\n\u001b[0;32m--> 181\u001b[0m targets \u001b[38;5;241m=\u001b[39m \u001b[43mtorch\u001b[49m\u001b[38;5;241;43m.\u001b[39;49m\u001b[43mcat\u001b[49m\u001b[43m(\u001b[49m\u001b[43m(\u001b[49m\u001b[43mbatch\u001b[49m\u001b[43m[\u001b[49m\u001b[38;5;124;43m'\u001b[39;49m\u001b[38;5;124;43mbatch_idx\u001b[39;49m\u001b[38;5;124;43m'\u001b[39;49m\u001b[43m]\u001b[49m\u001b[38;5;241;43m.\u001b[39;49m\u001b[43mview\u001b[49m\u001b[43m(\u001b[49m\u001b[38;5;241;43m-\u001b[39;49m\u001b[38;5;241;43m1\u001b[39;49m\u001b[43m,\u001b[49m\u001b[43m \u001b[49m\u001b[38;5;241;43m1\u001b[39;49m\u001b[43m)\u001b[49m\u001b[43m,\u001b[49m\u001b[43m \u001b[49m\u001b[43mbatch\u001b[49m\u001b[43m[\u001b[49m\u001b[38;5;124;43m'\u001b[39;49m\u001b[38;5;124;43mcls\u001b[39;49m\u001b[38;5;124;43m'\u001b[39;49m\u001b[43m]\u001b[49m\u001b[38;5;241;43m.\u001b[39;49m\u001b[43mview\u001b[49m\u001b[43m(\u001b[49m\u001b[38;5;241;43m-\u001b[39;49m\u001b[38;5;241;43m1\u001b[39;49m\u001b[43m,\u001b[49m\u001b[43m \u001b[49m\u001b[38;5;241;43m1\u001b[39;49m\u001b[43m)\u001b[49m\u001b[43m,\u001b[49m\u001b[43m \u001b[49m\u001b[43mbatch\u001b[49m\u001b[43m[\u001b[49m\u001b[38;5;124;43m'\u001b[39;49m\u001b[38;5;124;43mbboxes\u001b[39;49m\u001b[38;5;124;43m'\u001b[39;49m\u001b[43m]\u001b[49m\u001b[43m)\u001b[49m\u001b[43m,\u001b[49m\u001b[43m \u001b[49m\u001b[38;5;241;43m1\u001b[39;49m\u001b[43m)\u001b[49m\n\u001b[1;32m    182\u001b[0m targets \u001b[38;5;241m=\u001b[39m \u001b[38;5;28mself\u001b[39m\u001b[38;5;241m.\u001b[39mpreprocess(targets\u001b[38;5;241m.\u001b[39mto(\u001b[38;5;28mself\u001b[39m\u001b[38;5;241m.\u001b[39mdevice), batch_size, scale_tensor\u001b[38;5;241m=\u001b[39mimgsz[[\u001b[38;5;241m1\u001b[39m, \u001b[38;5;241m0\u001b[39m, \u001b[38;5;241m1\u001b[39m, \u001b[38;5;241m0\u001b[39m]])\n\u001b[1;32m    183\u001b[0m gt_labels, gt_bboxes \u001b[38;5;241m=\u001b[39m targets\u001b[38;5;241m.\u001b[39msplit((\u001b[38;5;241m1\u001b[39m, \u001b[38;5;241m4\u001b[39m), \u001b[38;5;241m2\u001b[39m)  \u001b[38;5;66;03m# cls, xyxy\u001b[39;00m\n",
      "\u001b[0;31mRuntimeError\u001b[0m: Sizes of tensors must match except in dimension 1. Expected size 5 but got size 160 for tensor number 1 in the list."
     ]
    }
   ],
   "source": [
    "# train\n",
    "discr_model.train()\n",
    "gen_model.train()\n",
    "\n",
    "for epoch in range(num_epochs):\n",
    "    discr_loss_epoch, gen_loss_epoch = 0, 0\n",
    "    for batch_id, (images, classes, annotations) in enumerate(dataset_loader):\n",
    "        images = images.double()\n",
    "        classes = classes.double()\n",
    "        annotations = annotations.double()\n",
    "\n",
    "        tensor_img = images.repeat(1, 3, 1, 1)\n",
    "        \n",
    "        discr_loss, gen_loss = 0, 0\n",
    "        \n",
    "        for discr_i in range(discr_iters):\n",
    "            gen_perturb = gen_model(tensor_img)\n",
    "            images_perturb = tensor_img + gen_perturb\n",
    "            \n",
    "            loss_discr = net.compute_discr_loss_minimax(discr_model, tensor_img, images_perturb)\n",
    "            \n",
    "            optimizer_discr.zero_grad()\n",
    "            loss_discr.backward()\n",
    "            optimizer_discr.step()\n",
    "            \n",
    "            discr_loss += loss_discr.item()\n",
    "            discr_loss_epoch += loss_discr.item()\n",
    "\n",
    "        loss_discr_list.append(discr_loss / discr_iters)\n",
    "\n",
    "        for gen_i in range(gen_iters):\n",
    "            gen_perturb = gen_model(tensor_img)\n",
    "            images_perturb = tensor_img + gen_perturb\n",
    "            \n",
    "            tensor_img_resized = resize_right.resize(images_perturb, out_shape=(1,3,256,256))\n",
    "            batch = {'ori_shape': ((3, 28, 140),),\n",
    "                'ratio_pad': None,\n",
    "                'im_file': None,\n",
    "                'img': tensor_img_resized,\n",
    "                'cls': classes.squeeze(0),\n",
    "                'bboxes': annotations.squeeze(0),\n",
    "                'batch_idx': torch.zeros(classes.shape[1])\n",
    "            }\n",
    "            \n",
    "            yolo_out = trainer.model(tensor_img_resized)\n",
    "            loss_fn = Loss(trainer.model)\n",
    "            loss_adv, _ = loss_fn(yolo_out, batch)\n",
    "            loss_adv *= -1\n",
    "            \n",
    "            loss_gan = net.compute_gen_loss_minimax_modified(discr_model, images_perturb)\n",
    "            \n",
    "            loss_hinge = hinge_loss(gen_perturb)\n",
    "            \n",
    "            loss_gen = loss_adv + alpha * loss_gan + beta * loss_hinge\n",
    "            \n",
    "            gen_model.zero_grad()\n",
    "            loss_gen.backward()\n",
    "            optimizer_gen.step()\n",
    "            \n",
    "            gen_loss += loss_gen.item()\n",
    "            gen_loss_epoch += loss_gen.item()\n",
    "\n",
    "        loss_gen_list.append(gen_loss / gen_iters)\n",
    "            \n",
    "        if batch_id % 10 == 0:\n",
    "            print('---------------------------------------------------------------------------------------------------------------------')\n",
    "            print(f'epoch: {epoch}; batch: {batch_id}; discr loss: {discr_loss / discr_iters}; gen loss: {gen_loss / gen_iters}')\n",
    "            print(f'adv loss: {loss_adv}; gan loss: {loss_gan}; hinge loss: {loss_hinge}; (from last batch)')\n",
    "            \n",
    "    loss_discr_by_epoch_list.append(discr_loss_epoch / len(dataset_loader) / discr_iters)\n",
    "    loss_gen_by_epoch_list.append(gen_loss_epoch / len(dataset_loader) / gen_iters)"
   ]
  },
  {
   "cell_type": "code",
   "execution_count": null,
   "id": "732c4a1b",
   "metadata": {},
   "outputs": [],
   "source": [
    "# plot loss graphs\n",
    "plt.plot(loss_discr_list, label='discr')\n",
    "plt.plot(loss_gen_list, label='gen')\n",
    "plt.legend()\n",
    "plt.savefig(f\"GANs_training/{run_name}/loss_graph.png\")\n",
    "plt.show()\n",
    "\n",
    "plt.plot(loss_discr_by_epoch_list, label='discr')\n",
    "plt.plot(loss_gen_by_epoch_list, label='gen')\n",
    "plt.legend()\n",
    "plt.savefig(f\"GANs_training/{run_name}/loss_graph_by_epoch.png\")\n",
    "plt.show()"
   ]
  },
  {
   "cell_type": "code",
   "execution_count": null,
   "id": "3c4d4732",
   "metadata": {},
   "outputs": [],
   "source": [
    "torch.save(discr_model.state_dict(), f'GANs_training/{run_name}/discriminator_state_dict')\n",
    "torch.save(gen_model.state_dict(), f'GANs_training/{run_name}/generator_state_dict')"
   ]
  },
  {
   "cell_type": "code",
   "execution_count": null,
   "id": "358ffa3a",
   "metadata": {
    "scrolled": false
   },
   "outputs": [],
   "source": [
    "gen_model.eval()\n",
    "with torch.no_grad():\n",
    "    x = dataset.image_list[0].unsqueeze(0)\n",
    "    tensor_img = x.repeat(1, 3, 1, 1)\n",
    "    perturb = gen_model(tensor_img)\n",
    "    x_perturbed = tensor_img + perturb\n",
    "\n",
    "tensor_img = tensor_img.squeeze(0).permute(1, 2, 0)\n",
    "perturb = perturb.squeeze(0).permute(1, 2, 0)\n",
    "x_perturbed = x_perturbed.squeeze(0).permute(1, 2, 0)\n",
    "    \n",
    "print('original')\n",
    "plt.imshow(tensor_img)\n",
    "plt.show()\n",
    "print('perturbation')\n",
    "plt.imshow(perturb)\n",
    "plt.show()\n",
    "print('perturbed image')\n",
    "plt.imshow(x_perturbed)\n",
    "plt.show()"
   ]
  },
  {
   "cell_type": "code",
   "execution_count": null,
   "id": "90341c2a",
   "metadata": {},
   "outputs": [],
   "source": [
    "x_perturbed_shaped = x_perturbed.permute(2, 0, 1).unsqueeze(0)\n",
    "x_perturbed_reshaped = resize_right.resize(x_perturbed_shaped, out_shape=(1,3,256,256))"
   ]
  },
  {
   "cell_type": "code",
   "execution_count": null,
   "id": "87735f42",
   "metadata": {},
   "outputs": [],
   "source": [
    "tensor_img_shaped = tensor_img.permute(2, 0, 1).unsqueeze(0)\n",
    "tensor_img_reshaped = resize_right.resize(tensor_img_shaped, out_shape=(1,3,256,256))"
   ]
  },
  {
   "cell_type": "code",
   "execution_count": null,
   "id": "f5166362",
   "metadata": {},
   "outputs": [],
   "source": [
    "yolo_out = trainer.model(x_perturbed_reshaped)\n",
    "yolo_out2 = trainer.model(tensor_img_reshaped)"
   ]
  },
  {
   "cell_type": "code",
   "execution_count": null,
   "id": "0fe6b44d",
   "metadata": {},
   "outputs": [],
   "source": [
    "yolo_out[0].shape"
   ]
  },
  {
   "cell_type": "code",
   "execution_count": null,
   "id": "6dc07b90",
   "metadata": {},
   "outputs": [],
   "source": [
    "yolo_out[1].shape"
   ]
  },
  {
   "cell_type": "code",
   "execution_count": null,
   "id": "bbdc5c98",
   "metadata": {},
   "outputs": [],
   "source": [
    "yolo_out[2].shape"
   ]
  },
  {
   "cell_type": "code",
   "execution_count": null,
   "id": "c07efc0f",
   "metadata": {},
   "outputs": [],
   "source": [
    "(yolo_out[0] - yolo_out2[0]).max()"
   ]
  },
  {
   "cell_type": "markdown",
   "id": "c05a34d3",
   "metadata": {},
   "source": [
    "### Summary of Training Procedure\n",
    "\n",
    "*give summary here to save*"
   ]
  },
  {
   "cell_type": "code",
   "execution_count": null,
   "id": "22102252",
   "metadata": {},
   "outputs": [],
   "source": [
    "# make sure to save notebook before running this cell\n",
    "shutil.copyfile('training.ipynb', f'GANs_training/{run_name}/training.ipynb')"
   ]
  },
  {
   "cell_type": "code",
   "execution_count": null,
   "id": "78c8452e",
   "metadata": {
    "scrolled": false
   },
   "outputs": [],
   "source": [
    "from torchvision.utils import save_image\n",
    "gen_model.eval()\n",
    "for i in range(5):\n",
    "    with torch.no_grad():\n",
    "        x = dataset.image_list[i].unsqueeze(0)\n",
    "        tensor_img = x.repeat(1, 3, 1, 1)\n",
    "        perturb = gen_model(tensor_img)\n",
    "        x_perturbed = tensor_img + perturb\n",
    "\n",
    "    tensor_img = tensor_img.squeeze(0).permute(1, 2, 0)\n",
    "    perturb = perturb.squeeze(0).permute(1, 2, 0)\n",
    "    x_perturbed = x_perturbed.squeeze(0).permute(1, 2, 0)\n",
    "\n",
    "    print('original')\n",
    "    plt.imshow(tensor_img)\n",
    "    plt.show()\n",
    "    print('perturbation')\n",
    "    plt.imshow(perturb)\n",
    "    plt.show()\n",
    "    print('perturbed image')\n",
    "    plt.imshow(x_perturbed)\n",
    "    plt.show()\n",
    "    \n",
    "    save_image(tensor_img.permute(2, 0, 1), f'sample_perturbed_images/original_{i}.png')\n",
    "    save_image(perturb.permute(2, 0, 1), f'sample_perturbed_images/perturbation_{i}.png')\n",
    "    save_image(x_perturbed.permute(2, 0, 1), f'sample_perturbed_images/perturbed_{i}.png')"
   ]
  },
  {
   "cell_type": "code",
   "execution_count": null,
   "id": "071575e2",
   "metadata": {},
   "outputs": [],
   "source": [
    "from torchvision.utils import save_image\n",
    "gen_model.eval()\n",
    "for i in range(len(dataset.image_list) - 5, len(dataset.image_list)):\n",
    "    with torch.no_grad():\n",
    "        x = dataset.image_list[i].unsqueeze(0)\n",
    "        tensor_img = x.repeat(1, 3, 1, 1)\n",
    "        perturb = gen_model(tensor_img)\n",
    "        x_perturbed = tensor_img + perturb\n",
    "\n",
    "    tensor_img = tensor_img.squeeze(0).permute(1, 2, 0)\n",
    "    perturb = perturb.squeeze(0).permute(1, 2, 0)\n",
    "    x_perturbed = x_perturbed.squeeze(0).permute(1, 2, 0)\n",
    "\n",
    "    print('original')\n",
    "    plt.imshow(tensor_img)\n",
    "    plt.show()\n",
    "    print('perturbation')\n",
    "    plt.imshow(perturb)\n",
    "    plt.show()\n",
    "    print('perturbed image')\n",
    "    plt.imshow(x_perturbed)\n",
    "    plt.show()\n",
    "    \n",
    "    save_image(tensor_img.permute(2, 0, 1), f'sample_perturbed_images/original_{i}.png')\n",
    "    save_image(perturb.permute(2, 0, 1), f'sample_perturbed_images/perturbation_{i}.png')\n",
    "    save_image(x_perturbed.permute(2, 0, 1), f'sample_perturbed_images/perturbed_{i}.png')"
   ]
  },
  {
   "cell_type": "code",
   "execution_count": null,
   "id": "0dccf5e4",
   "metadata": {},
   "outputs": [],
   "source": []
  },
  {
   "cell_type": "code",
   "execution_count": null,
   "id": "ee6b3941",
   "metadata": {},
   "outputs": [],
   "source": []
  }
 ],
 "metadata": {
  "kernelspec": {
   "display_name": "Python 3 (ipykernel)",
   "language": "python",
   "name": "python3"
  },
  "language_info": {
   "codemirror_mode": {
    "name": "ipython",
    "version": 3
   },
   "file_extension": ".py",
   "mimetype": "text/x-python",
   "name": "python",
   "nbconvert_exporter": "python",
   "pygments_lexer": "ipython3",
   "version": "3.9.16"
  }
 },
 "nbformat": 4,
 "nbformat_minor": 5
}
