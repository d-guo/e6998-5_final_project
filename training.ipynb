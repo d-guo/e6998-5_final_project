{
 "cells": [
  {
   "cell_type": "code",
   "execution_count": 1,
   "id": "987e5672",
   "metadata": {},
   "outputs": [],
   "source": [
    "import os\n",
    "import pprint\n",
    "import shutil\n",
    "\n",
    "import matplotlib.pyplot as plt\n",
    "import numpy as np\n",
    "import pickle as pkl\n",
    "import torch\n",
    "\n",
    "import data\n",
    "import networks as net\n",
    "\n",
    "from networks import Generator, Discriminator\n",
    "from torch.utils.data import DataLoader\n",
    "\n",
    "torch.manual_seed(0)\n",
    "\n",
    "plt.rcParams['image.cmap'] = 'Blues_r'"
   ]
  },
  {
   "cell_type": "code",
   "execution_count": 2,
   "id": "474cf5e7",
   "metadata": {},
   "outputs": [
    {
     "name": "stdout",
     "output_type": "stream",
     "text": [
      "cpu\n"
     ]
    }
   ],
   "source": [
    "if torch.cuda.is_available():\n",
    "    device = torch.device('cuda')\n",
    "else:\n",
    "    device = torch.device('cpu')\n",
    "    \n",
    "print(device)"
   ]
  },
  {
   "cell_type": "code",
   "execution_count": 3,
   "id": "0de20219",
   "metadata": {},
   "outputs": [],
   "source": [
    "hp_dict = {\n",
    "    'run_name': 'GANs_training_1',\n",
    "    'description': 'sksksksk',\n",
    "    \n",
    "    'image_size': (28, 28 * 5),\n",
    "    \n",
    "    'batch_size': 32,\n",
    "    'num_epochs': 1000000,\n",
    "    \n",
    "    'learning_rate_discr': 0.0001,\n",
    "    'learning_rate_gen': 0.0001,\n",
    "    'discr_iters': 1,\n",
    "    'gen_iters': 4,\n",
    "    \n",
    "    'alpha': 1.0,\n",
    "    'beta': 5.0,\n",
    "    'threshold': 0.5,\n",
    "}\n",
    "\n",
    "# extract all hyperparameters for ease of use\n",
    "run_name = hp_dict['run_name']\n",
    "M, N = hp_dict['image_size']\n",
    "\n",
    "batch_size = hp_dict['batch_size']\n",
    "num_epochs = hp_dict['num_epochs']\n",
    "\n",
    "learning_rate_discr = hp_dict['learning_rate_discr']\n",
    "learning_rate_gen = hp_dict['learning_rate_gen']\n",
    "discr_iters = hp_dict['discr_iters']\n",
    "gen_iters = hp_dict['gen_iters']\n",
    "\n",
    "alpha = hp_dict['alpha']\n",
    "beta = hp_dict['beta']\n",
    "threshold = hp_dict['threshold']"
   ]
  },
  {
   "cell_type": "code",
   "execution_count": 4,
   "id": "7207ffc6",
   "metadata": {},
   "outputs": [],
   "source": [
    "# create output directory for this training session\n",
    "try:\n",
    "    os.mkdir(f'GANs_training/{run_name}')\n",
    "except FileExistsError:\n",
    "    shutil.rmtree(f'GANs_training/{run_name}')\n",
    "    os.mkdir(f'GANs_training/{run_name}')"
   ]
  },
  {
   "cell_type": "code",
   "execution_count": 5,
   "id": "afe510dc",
   "metadata": {},
   "outputs": [],
   "source": [
    "# record hyperparameters\n",
    "hp_dict_str = pprint.pformat(hp_dict)\n",
    "\n",
    "with open(f'GANs_training/{run_name}/hp_dict', 'wb+') as f:\n",
    "    pkl.dump(hp_dict, f)\n",
    "\n",
    "with open(f'GANs_training/{run_name}/hp_dict.txt', 'w+') as f:\n",
    "    f.write(hp_dict_str)"
   ]
  },
  {
   "cell_type": "code",
   "execution_count": 6,
   "id": "9259f13d",
   "metadata": {},
   "outputs": [],
   "source": [
    "# create dataset\n",
    "dataset = data.GANs_Dataset()\n",
    "dataset_loader = DataLoader(dataset, batch_size=batch_size, shuffle=True)"
   ]
  },
  {
   "cell_type": "code",
   "execution_count": 7,
   "id": "38384706",
   "metadata": {},
   "outputs": [
    {
     "name": "stdout",
     "output_type": "stream",
     "text": [
      "tensor([[[0., 0., 0.,  ..., 0., 0., 0.],\n",
      "         [0., 0., 0.,  ..., 0., 0., 0.],\n",
      "         [0., 0., 0.,  ..., 0., 0., 0.],\n",
      "         ...,\n",
      "         [0., 0., 0.,  ..., 0., 0., 0.],\n",
      "         [0., 0., 0.,  ..., 0., 0., 0.],\n",
      "         [0., 0., 0.,  ..., 0., 0., 0.]]], dtype=torch.float64)\n"
     ]
    },
    {
     "data": {
      "image/png": "[encoded data removed]",
      "text/plain": [
       "<Figure size 432x288 with 1 Axes>"
      ]
     },
     "metadata": {
      "needs_background": "light"
     },
     "output_type": "display_data"
    }
   ],
   "source": [
    "print(dataset.image_list[0])\n",
    "plt.imshow(dataset.image_list[0][0].numpy())\n",
    "plt.show()"
   ]
  },
  {
   "cell_type": "code",
   "execution_count": 8,
   "id": "fdfd0223",
   "metadata": {},
   "outputs": [],
   "source": [
    "def hinge_loss(gen_perturb):\n",
    "    return torch.sum(torch.clip(torch.norm(gen_perturb, dim=(-1, -2)) - threshold, min=0)) / batch_size"
   ]
  },
  {
   "cell_type": "code",
   "execution_count": 9,
   "id": "5e87982f",
   "metadata": {},
   "outputs": [],
   "source": [
    "# set up models\n",
    "discr_model = Discriminator().double()\n",
    "gen_model = Generator().double()\n",
    "# target_model = # YOLO Model\n",
    "\n",
    "# record model architectures\n",
    "with open(f'GANs_training/{run_name}/discriminator_architecture_summary.txt', 'w+') as f:\n",
    "    f.write(str(discr_model))\n",
    "    \n",
    "with open(f'GANs_training/{run_name}/generator_architecture_summary.txt', 'w+') as f:\n",
    "    f.write(str(gen_model))"
   ]
  },
  {
   "cell_type": "code",
   "execution_count": 10,
   "id": "22ab53c9",
   "metadata": {},
   "outputs": [],
   "source": [
    "# track metrics\n",
    "loss_discr_list = []\n",
    "loss_gen_list = []\n",
    "\n",
    "loss_discr_by_epoch_list = []\n",
    "loss_gen_by_epoch_list = []"
   ]
  },
  {
   "cell_type": "code",
   "execution_count": 12,
   "id": "ffe3a60b",
   "metadata": {},
   "outputs": [],
   "source": [
    "# set up or refresh optimizers\n",
    "optimizer_discr = torch.optim.Adam(discr_model.parameters(), lr=learning_rate_discr, amsgrad=True)\n",
    "optimizer_gen = torch.optim.Adam(gen_model.parameters(), lr=learning_rate_gen, amsgrad=True)"
   ]
  },
  {
   "cell_type": "code",
   "execution_count": 13,
   "id": "ef1ba570",
   "metadata": {
    "scrolled": true
   },
   "outputs": [
    {
     "ename": "RuntimeError",
     "evalue": "stack expects each tensor to be equal size, but got [5] at entry 0 and [4] at entry 1",
     "output_type": "error",
     "traceback": [
      "\u001b[0;31m---------------------------------------------------------------------------\u001b[0m",
      "\u001b[0;31mRuntimeError\u001b[0m                              Traceback (most recent call last)",
      "Input \u001b[0;32mIn [13]\u001b[0m, in \u001b[0;36m<cell line: 5>\u001b[0;34m()\u001b[0m\n\u001b[1;32m      5\u001b[0m \u001b[38;5;28;01mfor\u001b[39;00m epoch \u001b[38;5;129;01min\u001b[39;00m \u001b[38;5;28mrange\u001b[39m(num_epochs):\n\u001b[1;32m      6\u001b[0m     discr_loss_epoch, gen_loss_epoch \u001b[38;5;241m=\u001b[39m \u001b[38;5;241m0\u001b[39m, \u001b[38;5;241m0\u001b[39m\n\u001b[0;32m----> 7\u001b[0m     \u001b[38;5;28;01mfor\u001b[39;00m batch_id, (images, classes, annotations) \u001b[38;5;129;01min\u001b[39;00m \u001b[38;5;28menumerate\u001b[39m(dataset_loader):\n\u001b[1;32m      8\u001b[0m         discr_loss, gen_loss \u001b[38;5;241m=\u001b[39m \u001b[38;5;241m0\u001b[39m, \u001b[38;5;241m0\u001b[39m\n\u001b[1;32m      9\u001b[0m         \u001b[38;5;28;01mfor\u001b[39;00m discr_i \u001b[38;5;129;01min\u001b[39;00m \u001b[38;5;28mrange\u001b[39m(discr_iters):\n",
      "File \u001b[0;32m~/opt/anaconda3/lib/python3.9/site-packages/torch/utils/data/dataloader.py:681\u001b[0m, in \u001b[0;36m_BaseDataLoaderIter.__next__\u001b[0;34m(self)\u001b[0m\n\u001b[1;32m    678\u001b[0m \u001b[38;5;28;01mif\u001b[39;00m \u001b[38;5;28mself\u001b[39m\u001b[38;5;241m.\u001b[39m_sampler_iter \u001b[38;5;129;01mis\u001b[39;00m \u001b[38;5;28;01mNone\u001b[39;00m:\n\u001b[1;32m    679\u001b[0m     \u001b[38;5;66;03m# TODO(https://github.com/pytorch/pytorch/issues/76750)\u001b[39;00m\n\u001b[1;32m    680\u001b[0m     \u001b[38;5;28mself\u001b[39m\u001b[38;5;241m.\u001b[39m_reset()  \u001b[38;5;66;03m# type: ignore[call-arg]\u001b[39;00m\n\u001b[0;32m--> 681\u001b[0m data \u001b[38;5;241m=\u001b[39m \u001b[38;5;28;43mself\u001b[39;49m\u001b[38;5;241;43m.\u001b[39;49m\u001b[43m_next_data\u001b[49m\u001b[43m(\u001b[49m\u001b[43m)\u001b[49m\n\u001b[1;32m    682\u001b[0m \u001b[38;5;28mself\u001b[39m\u001b[38;5;241m.\u001b[39m_num_yielded \u001b[38;5;241m+\u001b[39m\u001b[38;5;241m=\u001b[39m \u001b[38;5;241m1\u001b[39m\n\u001b[1;32m    683\u001b[0m \u001b[38;5;28;01mif\u001b[39;00m \u001b[38;5;28mself\u001b[39m\u001b[38;5;241m.\u001b[39m_dataset_kind \u001b[38;5;241m==\u001b[39m _DatasetKind\u001b[38;5;241m.\u001b[39mIterable \u001b[38;5;129;01mand\u001b[39;00m \\\n\u001b[1;32m    684\u001b[0m         \u001b[38;5;28mself\u001b[39m\u001b[38;5;241m.\u001b[39m_IterableDataset_len_called \u001b[38;5;129;01mis\u001b[39;00m \u001b[38;5;129;01mnot\u001b[39;00m \u001b[38;5;28;01mNone\u001b[39;00m \u001b[38;5;129;01mand\u001b[39;00m \\\n\u001b[1;32m    685\u001b[0m         \u001b[38;5;28mself\u001b[39m\u001b[38;5;241m.\u001b[39m_num_yielded \u001b[38;5;241m>\u001b[39m \u001b[38;5;28mself\u001b[39m\u001b[38;5;241m.\u001b[39m_IterableDataset_len_called:\n",
      "File \u001b[0;32m~/opt/anaconda3/lib/python3.9/site-packages/torch/utils/data/dataloader.py:721\u001b[0m, in \u001b[0;36m_SingleProcessDataLoaderIter._next_data\u001b[0;34m(self)\u001b[0m\n\u001b[1;32m    719\u001b[0m \u001b[38;5;28;01mdef\u001b[39;00m \u001b[38;5;21m_next_data\u001b[39m(\u001b[38;5;28mself\u001b[39m):\n\u001b[1;32m    720\u001b[0m     index \u001b[38;5;241m=\u001b[39m \u001b[38;5;28mself\u001b[39m\u001b[38;5;241m.\u001b[39m_next_index()  \u001b[38;5;66;03m# may raise StopIteration\u001b[39;00m\n\u001b[0;32m--> 721\u001b[0m     data \u001b[38;5;241m=\u001b[39m \u001b[38;5;28;43mself\u001b[39;49m\u001b[38;5;241;43m.\u001b[39;49m\u001b[43m_dataset_fetcher\u001b[49m\u001b[38;5;241;43m.\u001b[39;49m\u001b[43mfetch\u001b[49m\u001b[43m(\u001b[49m\u001b[43mindex\u001b[49m\u001b[43m)\u001b[49m  \u001b[38;5;66;03m# may raise StopIteration\u001b[39;00m\n\u001b[1;32m    722\u001b[0m     \u001b[38;5;28;01mif\u001b[39;00m \u001b[38;5;28mself\u001b[39m\u001b[38;5;241m.\u001b[39m_pin_memory:\n\u001b[1;32m    723\u001b[0m         data \u001b[38;5;241m=\u001b[39m _utils\u001b[38;5;241m.\u001b[39mpin_memory\u001b[38;5;241m.\u001b[39mpin_memory(data, \u001b[38;5;28mself\u001b[39m\u001b[38;5;241m.\u001b[39m_pin_memory_device)\n",
      "File \u001b[0;32m~/opt/anaconda3/lib/python3.9/site-packages/torch/utils/data/_utils/fetch.py:52\u001b[0m, in \u001b[0;36m_MapDatasetFetcher.fetch\u001b[0;34m(self, possibly_batched_index)\u001b[0m\n\u001b[1;32m     50\u001b[0m \u001b[38;5;28;01melse\u001b[39;00m:\n\u001b[1;32m     51\u001b[0m     data \u001b[38;5;241m=\u001b[39m \u001b[38;5;28mself\u001b[39m\u001b[38;5;241m.\u001b[39mdataset[possibly_batched_index]\n\u001b[0;32m---> 52\u001b[0m \u001b[38;5;28;01mreturn\u001b[39;00m \u001b[38;5;28;43mself\u001b[39;49m\u001b[38;5;241;43m.\u001b[39;49m\u001b[43mcollate_fn\u001b[49m\u001b[43m(\u001b[49m\u001b[43mdata\u001b[49m\u001b[43m)\u001b[49m\n",
      "File \u001b[0;32m~/opt/anaconda3/lib/python3.9/site-packages/torch/utils/data/_utils/collate.py:175\u001b[0m, in \u001b[0;36mdefault_collate\u001b[0;34m(batch)\u001b[0m\n\u001b[1;32m    172\u001b[0m transposed \u001b[38;5;241m=\u001b[39m \u001b[38;5;28mlist\u001b[39m(\u001b[38;5;28mzip\u001b[39m(\u001b[38;5;241m*\u001b[39mbatch))  \u001b[38;5;66;03m# It may be accessed twice, so we use a list.\u001b[39;00m\n\u001b[1;32m    174\u001b[0m \u001b[38;5;28;01mif\u001b[39;00m \u001b[38;5;28misinstance\u001b[39m(elem, \u001b[38;5;28mtuple\u001b[39m):\n\u001b[0;32m--> 175\u001b[0m     \u001b[38;5;28;01mreturn\u001b[39;00m [default_collate(samples) \u001b[38;5;28;01mfor\u001b[39;00m samples \u001b[38;5;129;01min\u001b[39;00m transposed]  \u001b[38;5;66;03m# Backwards compatibility.\u001b[39;00m\n\u001b[1;32m    176\u001b[0m \u001b[38;5;28;01melse\u001b[39;00m:\n\u001b[1;32m    177\u001b[0m     \u001b[38;5;28;01mtry\u001b[39;00m:\n",
      "File \u001b[0;32m~/opt/anaconda3/lib/python3.9/site-packages/torch/utils/data/_utils/collate.py:175\u001b[0m, in \u001b[0;36m<listcomp>\u001b[0;34m(.0)\u001b[0m\n\u001b[1;32m    172\u001b[0m transposed \u001b[38;5;241m=\u001b[39m \u001b[38;5;28mlist\u001b[39m(\u001b[38;5;28mzip\u001b[39m(\u001b[38;5;241m*\u001b[39mbatch))  \u001b[38;5;66;03m# It may be accessed twice, so we use a list.\u001b[39;00m\n\u001b[1;32m    174\u001b[0m \u001b[38;5;28;01mif\u001b[39;00m \u001b[38;5;28misinstance\u001b[39m(elem, \u001b[38;5;28mtuple\u001b[39m):\n\u001b[0;32m--> 175\u001b[0m     \u001b[38;5;28;01mreturn\u001b[39;00m [\u001b[43mdefault_collate\u001b[49m\u001b[43m(\u001b[49m\u001b[43msamples\u001b[49m\u001b[43m)\u001b[49m \u001b[38;5;28;01mfor\u001b[39;00m samples \u001b[38;5;129;01min\u001b[39;00m transposed]  \u001b[38;5;66;03m# Backwards compatibility.\u001b[39;00m\n\u001b[1;32m    176\u001b[0m \u001b[38;5;28;01melse\u001b[39;00m:\n\u001b[1;32m    177\u001b[0m     \u001b[38;5;28;01mtry\u001b[39;00m:\n",
      "File \u001b[0;32m~/opt/anaconda3/lib/python3.9/site-packages/torch/utils/data/_utils/collate.py:141\u001b[0m, in \u001b[0;36mdefault_collate\u001b[0;34m(batch)\u001b[0m\n\u001b[1;32m    139\u001b[0m         storage \u001b[38;5;241m=\u001b[39m elem\u001b[38;5;241m.\u001b[39mstorage()\u001b[38;5;241m.\u001b[39m_new_shared(numel, device\u001b[38;5;241m=\u001b[39melem\u001b[38;5;241m.\u001b[39mdevice)\n\u001b[1;32m    140\u001b[0m         out \u001b[38;5;241m=\u001b[39m elem\u001b[38;5;241m.\u001b[39mnew(storage)\u001b[38;5;241m.\u001b[39mresize_(\u001b[38;5;28mlen\u001b[39m(batch), \u001b[38;5;241m*\u001b[39m\u001b[38;5;28mlist\u001b[39m(elem\u001b[38;5;241m.\u001b[39msize()))\n\u001b[0;32m--> 141\u001b[0m     \u001b[38;5;28;01mreturn\u001b[39;00m \u001b[43mtorch\u001b[49m\u001b[38;5;241;43m.\u001b[39;49m\u001b[43mstack\u001b[49m\u001b[43m(\u001b[49m\u001b[43mbatch\u001b[49m\u001b[43m,\u001b[49m\u001b[43m \u001b[49m\u001b[38;5;241;43m0\u001b[39;49m\u001b[43m,\u001b[49m\u001b[43m \u001b[49m\u001b[43mout\u001b[49m\u001b[38;5;241;43m=\u001b[39;49m\u001b[43mout\u001b[49m\u001b[43m)\u001b[49m\n\u001b[1;32m    142\u001b[0m \u001b[38;5;28;01melif\u001b[39;00m elem_type\u001b[38;5;241m.\u001b[39m\u001b[38;5;18m__module__\u001b[39m \u001b[38;5;241m==\u001b[39m \u001b[38;5;124m'\u001b[39m\u001b[38;5;124mnumpy\u001b[39m\u001b[38;5;124m'\u001b[39m \u001b[38;5;129;01mand\u001b[39;00m elem_type\u001b[38;5;241m.\u001b[39m\u001b[38;5;18m__name__\u001b[39m \u001b[38;5;241m!=\u001b[39m \u001b[38;5;124m'\u001b[39m\u001b[38;5;124mstr_\u001b[39m\u001b[38;5;124m'\u001b[39m \\\n\u001b[1;32m    143\u001b[0m         \u001b[38;5;129;01mand\u001b[39;00m elem_type\u001b[38;5;241m.\u001b[39m\u001b[38;5;18m__name__\u001b[39m \u001b[38;5;241m!=\u001b[39m \u001b[38;5;124m'\u001b[39m\u001b[38;5;124mstring_\u001b[39m\u001b[38;5;124m'\u001b[39m:\n\u001b[1;32m    144\u001b[0m     \u001b[38;5;28;01mif\u001b[39;00m elem_type\u001b[38;5;241m.\u001b[39m\u001b[38;5;18m__name__\u001b[39m \u001b[38;5;241m==\u001b[39m \u001b[38;5;124m'\u001b[39m\u001b[38;5;124mndarray\u001b[39m\u001b[38;5;124m'\u001b[39m \u001b[38;5;129;01mor\u001b[39;00m elem_type\u001b[38;5;241m.\u001b[39m\u001b[38;5;18m__name__\u001b[39m \u001b[38;5;241m==\u001b[39m \u001b[38;5;124m'\u001b[39m\u001b[38;5;124mmemmap\u001b[39m\u001b[38;5;124m'\u001b[39m:\n\u001b[1;32m    145\u001b[0m         \u001b[38;5;66;03m# array of string classes and object\u001b[39;00m\n",
      "\u001b[0;31mRuntimeError\u001b[0m: stack expects each tensor to be equal size, but got [5] at entry 0 and [4] at entry 1"
     ]
    }
   ],
   "source": [
    "# train\n",
    "discr_model.train()\n",
    "gen_model.train()\n",
    "\n",
    "for epoch in range(num_epochs):\n",
    "    discr_loss_epoch, gen_loss_epoch = 0, 0\n",
    "    for batch_id, (images, classes, annotations) in enumerate(dataset_loader):\n",
    "        discr_loss, gen_loss = 0, 0\n",
    "        for discr_i in range(discr_iters):\n",
    "            gen_perturb = gen_model(images)\n",
    "            images_perturb = images + gen_perturb\n",
    "            \n",
    "            loss_discr = net.compute_discr_loss_minimax(discr_model, images, images_perturb)\n",
    "            \n",
    "            optimizer_discr.zero_grad()\n",
    "            loss_discr.backward()\n",
    "            optimizer_discr.step()\n",
    "            \n",
    "            discr_loss += loss_discr.item()\n",
    "            discr_loss_epoch += loss_discr.item()\n",
    "\n",
    "        loss_discr_list.append(discr_loss / discr_iters)\n",
    "\n",
    "        for gen_i in range(gen_iters):\n",
    "            gen_perturb = gen_model(images)\n",
    "            images_perturb = images + gen_perturb\n",
    "            \n",
    "            loss_adv = yolo_loss(images_perturb, classes, annotations)\n",
    "            loss_gan = net.compute_gen_loss_minimax_modified(discr_model, images_perturb)\n",
    "            loss_hinge = hinge_loss(gen_perturb)\n",
    "            \n",
    "            loss_gen = loss_adv + alpha * loss_gan + beta * loss_hinge\n",
    "            \n",
    "            gen_model.zero_grad()\n",
    "            loss_gen.backward()\n",
    "            optimizer_gen.step()\n",
    "            \n",
    "            gen_loss += loss_gen.item()\n",
    "            gen_loss_epoch += loss_gen.item()\n",
    "\n",
    "        loss_gen_list.append(gen_loss / gen_iters)\n",
    "            \n",
    "        if batch_id % 10 == 0:\n",
    "            print(f'epoch: {epoch}; batch: {batch_id}; discr loss: {discr_loss / discr_iters}; gen loss: {gen_loss / gen_iters}')\n",
    "            gen_model.eval()\n",
    "            discr_model.eval()\n",
    "            z_vals = torch.rand(1, 1)\n",
    "            print('z_val:', z_vals)\n",
    "            u_funcs = gen_model(z_vals).detach()\n",
    "            pl.plot_3d(u_funcs[0], 1)\n",
    "            pl.plt.show()\n",
    "            print('discr pred:', discr_model(u_funcs)[0].item())\n",
    "            gen_model.train()\n",
    "            discr_model.train()\n",
    "            \n",
    "    loss_discr_by_epoch_list.append(discr_loss_epoch / len(dataset_loader) / discr_iters)\n",
    "    loss_gen_by_epoch_list.append(gen_loss_epoch / len(dataset_loader) / gen_iters)"
   ]
  },
  {
   "cell_type": "code",
   "execution_count": null,
   "id": "5adb7699",
   "metadata": {},
   "outputs": [],
   "source": [
    "# save loss graphs\n",
    "with open(f'GANs_training/{run_name}/gen_loss_list', 'wb+') as f:\n",
    "    pkl.dump(loss_gen_list, f)\n",
    "    \n",
    "with open(f'GANs_training/{run_name}/discr_loss_list', 'wb+') as f:\n",
    "    pkl.dump(loss_discr_list, f)\n",
    "    \n",
    "with open(f'GANs_training/{run_name}/loss_gen_by_epoch_list', 'wb+') as f:\n",
    "    pkl.dump(loss_gen_by_epoch_list, f)\n",
    "    \n",
    "with open(f'GANs_training/{run_name}/loss_discr_by_epoch_list', 'wb+') as f:\n",
    "    pkl.dump(loss_discr_by_epoch_list, f)"
   ]
  },
  {
   "cell_type": "code",
   "execution_count": null,
   "id": "732c4a1b",
   "metadata": {},
   "outputs": [],
   "source": [
    "# plot loss graphs\n",
    "plt.plot(loss_discr_list, label='discr')\n",
    "plt.plot(loss_gen_list, label='gen')\n",
    "plt.legend()\n",
    "plt.savefig(f\"GANs_training/{run_name}/loss_graph.png\")\n",
    "plt.show()\n",
    "\n",
    "plt.plot(loss_discr_by_epoch_list, label='discr')\n",
    "plt.plot(loss_gen_by_epoch_list, label='gen')\n",
    "plt.legend()\n",
    "plt.savefig(f\"GANs_training/{run_name}/loss_graph_by_epoch.png\")\n",
    "plt.show()"
   ]
  },
  {
   "cell_type": "code",
   "execution_count": null,
   "id": "3c4d4732",
   "metadata": {},
   "outputs": [],
   "source": [
    "torch.save(discr_model.state_dict(), f'GANs_training/{run_name}/discriminator_state_dict')\n",
    "torch.save(gen_model.state_dict(), f'GANs_training/{run_name}/generator_state_dict')"
   ]
  },
  {
   "cell_type": "code",
   "execution_count": null,
   "id": "358ffa3a",
   "metadata": {},
   "outputs": [],
   "source": [
    "gen_model.eval()\n",
    "with torch.no_grad():\n",
    "    x = dataset.image_list[0].unsqueeze(0)\n",
    "    perturb = gen_model(x)\n",
    "    x_perturbed = x + perturb\n",
    "\n",
    "print('original')\n",
    "plt.imshow(x[0][0])\n",
    "plt.show()\n",
    "print('perturbation')\n",
    "plt.imshow(perturb[0][0])\n",
    "plt.show()\n",
    "print('perturbed image')\n",
    "plt.imshow(x_perturbed[0][0])\n",
    "plt.show()"
   ]
  },
  {
   "cell_type": "markdown",
   "id": "c05a34d3",
   "metadata": {},
   "source": [
    "### Summary of Training Procedure\n",
    "\n",
    "*give summary here to save*"
   ]
  },
  {
   "cell_type": "code",
   "execution_count": null,
   "id": "22102252",
   "metadata": {},
   "outputs": [],
   "source": [
    "# make sure to save notebook before running this cell\n",
    "shutil.copyfile('training.ipynb', f'GANs_training/{run_name}/training.ipynb')"
   ]
  },
  {
   "cell_type": "code",
   "execution_count": null,
   "id": "78c8452e",
   "metadata": {},
   "outputs": [],
   "source": []
  },
  {
   "cell_type": "code",
   "execution_count": null,
   "id": "d32271e3",
   "metadata": {},
   "outputs": [],
   "source": []
  }
 ],
 "metadata": {
  "kernelspec": {
   "display_name": "Python 3 (ipykernel)",
   "language": "python",
   "name": "python3"
  },
  "language_info": {
   "codemirror_mode": {
    "name": "ipython",
    "version": 3
   },
   "file_extension": ".py",
   "mimetype": "text/x-python",
   "name": "python",
   "nbconvert_exporter": "python",
   "pygments_lexer": "ipython3",
   "version": "3.9.12"
  }
 },
 "nbformat": 4,
 "nbformat_minor": 5
}
