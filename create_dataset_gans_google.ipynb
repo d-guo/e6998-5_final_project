{
 "cells": [
  {
   "cell_type": "code",
   "execution_count": 1,
   "id": "575ae430",
   "metadata": {},
   "outputs": [],
   "source": [
    "import torch\n",
    "import numpy as np\n",
    "import cv2\n",
    "\n",
    "import matplotlib.pyplot as plt\n",
    "import pickle as pkl\n",
    "\n",
    "import os\n",
    "import random\n",
    "import shutil\n",
    "\n",
    "from PIL import Image\n",
    "from torchvision.datasets import MNIST"
   ]
  },
  {
   "cell_type": "code",
   "execution_count": 2,
   "id": "65f4111e",
   "metadata": {},
   "outputs": [],
   "source": [
    "#!pip install opencv-python"
   ]
  },
  {
   "cell_type": "code",
   "execution_count": 2,
   "id": "c44ac6ce",
   "metadata": {},
   "outputs": [],
   "source": [
    "plt.rcParams['image.cmap'] = 'Blues_r'"
   ]
  },
  {
   "cell_type": "markdown",
   "id": "78901084",
   "metadata": {},
   "source": [
    "## Save to Training Format"
   ]
  },
  {
   "cell_type": "code",
   "execution_count": 16,
   "id": "d26ec2a9",
   "metadata": {},
   "outputs": [],
   "source": [
    "num_samples = 10000\n",
    "data_dir = './gans_data/data_google'\n",
    "\n",
    "# create directory to save training data\n",
    "if not os.path.exists(data_dir):\n",
    "    os.makedirs(data_dir)"
   ]
  },
  {
   "cell_type": "code",
   "execution_count": 5,
   "id": "fc3e9ce9",
   "metadata": {},
   "outputs": [],
   "source": [
    "# delete existing data\n",
    "# shutil.rmtree(data_dir)"
   ]
  },
  {
   "cell_type": "code",
   "execution_count": 6,
   "id": "753f5da5",
   "metadata": {},
   "outputs": [],
   "source": [
    "org_data_directory='./data/google_digit_data/test_new'\n",
    "test_imgs = os.listdir(org_data_directory+'/images')\n",
    "test_idx = [i.split('.')[0] for i in test_imgs]"
   ]
  },
  {
   "cell_type": "code",
   "execution_count": 7,
   "id": "418bc1d4",
   "metadata": {},
   "outputs": [],
   "source": [
    "random.shuffle(test_idx)\n",
    "test_idx = test_idx[:num_samples]"
   ]
  },
  {
   "cell_type": "code",
   "execution_count": 8,
   "id": "856e79da",
   "metadata": {},
   "outputs": [],
   "source": [
    "# generate and save YOLO data and annotations\n",
    "\n",
    "image_list = []\n",
    "classes_list = []\n",
    "annotations_list = []\n",
    "\n",
    "for idx in test_idx:\n",
    "    \n",
    "    # read image\n",
    "    img = np.array(Image.open(f\"{org_data_directory}/images/{idx}.png\"))\n",
    "    img = np.moveaxis(img, -1, 0)\n",
    "    \n",
    "    # read corresponding annotation\n",
    "    with open(f\"{org_data_directory}/labels/{idx}.txt\", 'r') as f:\n",
    "        annotation = f.read()\n",
    "        annotation = annotation.split('\\n')[:-1]\n",
    "        f.close()\n",
    "\n",
    "    cls = [int(i[0]) for i in annotation]\n",
    "    bbox = [i.split(' ')[1:] for i in annotation]\n",
    "    for idx, val in enumerate(bbox):\n",
    "        bbox[idx] = [float(val) for val in bbox[idx]]\n",
    "\n",
    "    image_list.append(torch.tensor(img).double()) # unsqueeze(0).double()\n",
    "    classes_list.append(torch.tensor(cls).double())\n",
    "    annotations_list.append(torch.tensor(bbox).double())\n"
   ]
  },
  {
   "cell_type": "code",
   "execution_count": 9,
   "id": "37a6407e",
   "metadata": {},
   "outputs": [
    {
     "name": "stdout",
     "output_type": "stream",
     "text": [
      "10000\n",
      "torch.Size([3, 100, 300])\n"
     ]
    }
   ],
   "source": [
    "print(len(image_list))\n",
    "print(image_list[0].shape)"
   ]
  },
  {
   "cell_type": "code",
   "execution_count": 14,
   "id": "d7ff1372",
   "metadata": {},
   "outputs": [
    {
     "data": {
      "text/plain": [
       "<matplotlib.image.AxesImage at 0x1667ca7f0>"
      ]
     },
     "execution_count": 14,
     "metadata": {},
     "output_type": "execute_result"
    },
    {
     "data": {
      "image/png": "[encoded data removed]",
      "text/plain": [
       "<Figure size 640x480 with 1 Axes>"
      ]
     },
     "metadata": {},
     "output_type": "display_data"
    }
   ],
   "source": [
    "t = np.array(image_list[0].int())\n",
    "t = np.moveaxis(np.array(image_list[0].int()), 0, 2)\n",
    "plt.imshow(t)"
   ]
  },
  {
   "cell_type": "code",
   "execution_count": 10,
   "id": "07a4c10e",
   "metadata": {},
   "outputs": [
    {
     "name": "stdout",
     "output_type": "stream",
     "text": [
      "10000\n",
      "torch.Size([2])\n",
      "tensor([3., 8.], dtype=torch.float64)\n"
     ]
    }
   ],
   "source": [
    "print(len(classes_list))\n",
    "print(classes_list[0].shape)\n",
    "print(classes_list[0])"
   ]
  },
  {
   "cell_type": "code",
   "execution_count": 11,
   "id": "c427623e",
   "metadata": {},
   "outputs": [
    {
     "name": "stdout",
     "output_type": "stream",
     "text": [
      "10000\n",
      "torch.Size([2, 4])\n",
      "tensor([[0.1683, 0.1950, 0.0233, 0.1900],\n",
      "        [0.1983, 0.2350, 0.0433, 0.1900]], dtype=torch.float64)\n"
     ]
    }
   ],
   "source": [
    "print(len(annotations_list))\n",
    "print(annotations_list[0].shape)\n",
    "print(annotations_list[0])"
   ]
  },
  {
   "cell_type": "code",
   "execution_count": 17,
   "id": "eb2537a4",
   "metadata": {},
   "outputs": [],
   "source": [
    "with open(f'{data_dir}/image_list', 'wb+') as f:\n",
    "    pkl.dump(image_list, f)\n",
    "    \n",
    "with open(f'{data_dir}/classes_list', 'wb+') as f:\n",
    "    pkl.dump(classes_list, f)\n",
    "    \n",
    "with open(f'{data_dir}/annotations_list', 'wb+') as f:\n",
    "    pkl.dump(annotations_list, f)"
   ]
  }
 ],
 "metadata": {
  "kernelspec": {
   "display_name": "Python 3 (ipykernel)",
   "language": "python",
   "name": "python3"
  },
  "language_info": {
   "codemirror_mode": {
    "name": "ipython",
    "version": 3
   },
   "file_extension": ".py",
   "mimetype": "text/x-python",
   "name": "python",
   "nbconvert_exporter": "python",
   "pygments_lexer": "ipython3",
   "version": "3.9.16"
  }
 },
 "nbformat": 4,
 "nbformat_minor": 5
}
