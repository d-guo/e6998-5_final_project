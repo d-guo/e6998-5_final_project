{
 "cells": [
  {
   "cell_type": "code",
   "execution_count": 31,
   "id": "575ae430",
   "metadata": {},
   "outputs": [],
   "source": [
    "import torch\n",
    "\n",
    "import matplotlib.pyplot as plt\n",
    "import pickle as pkl\n",
    "\n",
    "import os\n",
    "import random\n",
    "\n",
    "from PIL import Image\n",
    "from torchvision.datasets import MNIST"
   ]
  },
  {
   "cell_type": "code",
   "execution_count": 2,
   "id": "c44ac6ce",
   "metadata": {},
   "outputs": [],
   "source": [
    "plt.rcParams['image.cmap'] = 'Blues_r'"
   ]
  },
  {
   "cell_type": "markdown",
   "id": "6c874310",
   "metadata": {},
   "source": [
    "## Preprocess MNIST\n",
    "\n",
    "Save MNIST to disk split by digit value."
   ]
  },
  {
   "cell_type": "code",
   "execution_count": 3,
   "id": "90c6c6e4",
   "metadata": {},
   "outputs": [],
   "source": [
    "MNIST_data = MNIST(root='./data', train=True, download=True, transform=None)"
   ]
  },
  {
   "cell_type": "code",
   "execution_count": 24,
   "id": "191d562b",
   "metadata": {},
   "outputs": [],
   "source": [
    "# create directory to save separated data\n",
    "if not os.path.exists('./data/MNIST_sep'):\n",
    "    os.makedirs('./data/MNIST_sep')\n",
    "    \n",
    "# save each image in labeled directory\n",
    "num_per_class = [0 for _ in range(10)]\n",
    "for image, y in MNIST_data:\n",
    "    save_dir = f'./data/MNIST_sep/{y}'\n",
    "    if not os.path.exists(save_dir):\n",
    "        os.makedirs(save_dir)\n",
    "    \n",
    "    x = np.asarray(image) / 256\n",
    "    with open(f'{save_dir}/{num_per_class[y]}.pkl', 'wb+') as f:\n",
    "        pkl.dump(x, f)    \n",
    "    num_per_class[y] += 1\n",
    "\n",
    "with open(f'./data/MNIST_sep/num_per_class.pkl', 'wb+') as f:\n",
    "    pkl.dump(num_per_class, f)"
   ]
  },
  {
   "cell_type": "code",
   "execution_count": 22,
   "id": "02a0265b",
   "metadata": {},
   "outputs": [],
   "source": [
    "# delete separated data\n",
    "# import shutil\n",
    "# shutil.rmtree('./data/MNIST_sep')"
   ]
  },
  {
   "cell_type": "code",
   "execution_count": 30,
   "id": "42349b2e",
   "metadata": {},
   "outputs": [
    {
     "name": "stdout",
     "output_type": "stream",
     "text": [
      "[5923, 6742, 5958, 6131, 5842, 5421, 5918, 6265, 5851, 5949]\n"
     ]
    },
    {
     "data": {
      "image/png": "[encoded data removed]",
      "text/plain": [
       "<Figure size 432x288 with 1 Axes>"
      ]
     },
     "metadata": {
      "needs_background": "light"
     },
     "output_type": "display_data"
    },
    {
     "data": {
      "image/png": "[encoded data removed]",
      "text/plain": [
       "<Figure size 432x288 with 1 Axes>"
      ]
     },
     "metadata": {
      "needs_background": "light"
     },
     "output_type": "display_data"
    }
   ],
   "source": [
    "# show saved data is correct\n",
    "with open('./data/MNIST_sep/0/0.pkl', 'rb') as f:\n",
    "    x1 = pkl.load(f)\n",
    "with open('./data/MNIST_sep/0/100.pkl', 'rb') as f:\n",
    "    x2 = pkl.load(f)\n",
    "    \n",
    "with open('./data/MNIST_sep/num_per_class.pkl', 'rb') as f:\n",
    "    npc = pkl.load(f)\n",
    "    \n",
    "print(npc)\n",
    "plt.imshow(x1)\n",
    "plt.show()\n",
    "plt.imshow(x2)\n",
    "plt.show()"
   ]
  },
  {
   "cell_type": "markdown",
   "id": "78901084",
   "metadata": {},
   "source": [
    "## Save to YOLO Format"
   ]
  },
  {
   "cell_type": "code",
   "execution_count": 158,
   "id": "d26ec2a9",
   "metadata": {},
   "outputs": [],
   "source": [
    "num_samples = 100\n",
    "YOLO_data_dir = './data/YOLO_data'\n",
    "MAX_AMOUNT = 9999\n",
    "\n",
    "# create directory to save YOLO data\n",
    "if not os.path.exists(YOLO_data_dir):\n",
    "    os.makedirs(YOLO_data_dir)"
   ]
  },
  {
   "cell_type": "code",
   "execution_count": 159,
   "id": "6cb6bb9f",
   "metadata": {},
   "outputs": [],
   "source": [
    "def save_YOLO_format(image, annotations, save_name):\n",
    "    \"\"\"\n",
    "    image: image\n",
    "    annotations: array of bboxes [(class, x_coord, y_coord, width, height), ...]\n",
    "        - normalized to scale of image (coords and lengths in [0, 1])\n",
    "        - values in bboxes must be strings\n",
    "    save_name: image and annotations will be saved as f'{save_name}.png' and f'{save_name}_annotations.txt'\n",
    "    \"\"\"\n",
    "    \n",
    "    image.save(f'{YOLO_data_dir}/{save_name}.png', 'png')\n",
    "    \n",
    "    with open(f'{YOLO_data_dir}/{save_name}_annotations.txt', 'w+') as f:\n",
    "        for annotation in annotations:\n",
    "            f.write(' '.join(annotation) + '\\n')"
   ]
  },
  {
   "cell_type": "code",
   "execution_count": 160,
   "id": "516a340e",
   "metadata": {},
   "outputs": [],
   "source": [
    "def create_YOLO_sample(sample):\n",
    "    \"\"\"\n",
    "    sample: string of digits to create the sample\n",
    "        - ex. 194\n",
    "    returns numpy image and list of annotations\n",
    "    \"\"\"\n",
    "    images = []\n",
    "    annotations = []\n",
    "    for idx, digit in enumerate(sample):\n",
    "        image_to_stitch_idx = random.randint(0, num_per_class[int(digit)] - 1)\n",
    "        with open(f'./data/MNIST_sep/{digit}/{image_to_stitch_idx}.pkl', 'rb') as f:\n",
    "            image_to_stitch = pkl.load(f)\n",
    "        images.append(image_to_stitch)\n",
    "        \n",
    "        digit_class = digit\n",
    "        x_coord = str((idx + 0.5) / len(sample))\n",
    "        y_coord = str(0.5)\n",
    "        width = str(1 / len(sample))\n",
    "        height = str(1)\n",
    "        \n",
    "        annotations.append((digit_class, x_coord, y_coord, width, height))\n",
    "    \n",
    "    image_np = np.concatenate(images, axis=1)\n",
    "    image = Image.fromarray(256 * image_np).convert('L')\n",
    "    \n",
    "    return image, annotations"
   ]
  },
  {
   "cell_type": "code",
   "execution_count": 161,
   "id": "856e79da",
   "metadata": {},
   "outputs": [],
   "source": [
    "# generate and save YOLO data and annotations\n",
    "for sample_num in range(num_samples):\n",
    "    sample = str(random.randint(1, MAX_AMOUNT))\n",
    "    image, annotations = create_YOLO_sample(sample)\n",
    "    save_YOLO_format(image, annotations, str(sample_num))"
   ]
  },
  {
   "cell_type": "code",
   "execution_count": 162,
   "id": "94dda828",
   "metadata": {},
   "outputs": [],
   "source": [
    "# delete YOLO data\n",
    "# import shutil\n",
    "# shutil.rmtree(YOLO_data_dir)"
   ]
  },
  {
   "cell_type": "code",
   "execution_count": 164,
   "id": "cad3f704",
   "metadata": {},
   "outputs": [
    {
     "data": {
      "image/png": "[encoded data removed]",
      "text/plain": [
       "<Figure size 432x288 with 1 Axes>"
      ]
     },
     "metadata": {
      "needs_background": "light"
     },
     "output_type": "display_data"
    },
    {
     "name": "stdout",
     "output_type": "stream",
     "text": [
      "2 0.125 0.5 0.25 1\n",
      "9 0.375 0.5 0.25 1\n",
      "4 0.625 0.5 0.25 1\n",
      "6 0.875 0.5 0.25 1\n",
      "\n"
     ]
    }
   ],
   "source": [
    "# show it worked\n",
    "image = Image.open(f'{YOLO_data_dir}/1.png')\n",
    "plt.imshow(image)\n",
    "plt.show()\n",
    "\n",
    "with open(f'{YOLO_data_dir}/1_annotations.txt', 'r') as f:\n",
    "    print(f.read())"
   ]
  },
  {
   "cell_type": "code",
   "execution_count": null,
   "id": "158efc1c",
   "metadata": {},
   "outputs": [],
   "source": []
  }
 ],
 "metadata": {
  "kernelspec": {
   "display_name": "Python 3 (ipykernel)",
   "language": "python",
   "name": "python3"
  },
  "language_info": {
   "codemirror_mode": {
    "name": "ipython",
    "version": 3
   },
   "file_extension": ".py",
   "mimetype": "text/x-python",
   "name": "python",
   "nbconvert_exporter": "python",
   "pygments_lexer": "ipython3",
   "version": "3.9.12"
  }
 },
 "nbformat": 4,
 "nbformat_minor": 5
}
